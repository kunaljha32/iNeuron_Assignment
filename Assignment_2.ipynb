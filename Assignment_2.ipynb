{
 "cells": [
  {
   "cell_type": "markdown",
   "metadata": {},
   "source": [
    "Write a Python Program to implement your own myreduce() function which works exactly like\n",
    "Python's built-in function reduce()"
   ]
  },
  {
   "cell_type": "code",
   "execution_count": 19,
   "metadata": {},
   "outputs": [
    {
     "name": "stdout",
     "output_type": "stream",
     "text": [
      "24\n"
     ]
    }
   ],
   "source": [
    "\n",
    "def myreduce(function,number_list):\n",
    "\n",
    " \n",
    "  result = number_list[0]# Get first item list and assign to result\n",
    " \n",
    "  for i in number_list[1:]: # iterate over remaining items in the list and apply reduction function\n",
    "        result = function(result, i)\n",
    "  return result\n",
    "\n",
    "def multiply(x,y):\n",
    "    return x*y;\n",
    "print(myreduce(multiply,range(1,5)))"
   ]
  },
  {
   "cell_type": "markdown",
   "metadata": {},
   "source": [
    "Write a Python program to implement your own myfilter() function which works exactly like\n",
    "Python's built-in function filter()"
   ]
  },
  {
   "cell_type": "code",
   "execution_count": 20,
   "metadata": {},
   "outputs": [
    {
     "name": "stdout",
     "output_type": "stream",
     "text": [
      "[1, 2, 3, 4, 5, 6, 7, 8, 9]\n"
     ]
    }
   ],
   "source": [
    "def myfilter(function, number_list):\n",
    "    result=[]\n",
    "    for i in number_list:\n",
    "        if function(i):\n",
    "            result.append(i)\n",
    "    return result\n",
    "\n",
    "def find_positive_number(num):\n",
    "        if num > 0:\n",
    "            return num\n",
    "    \n",
    "print(myfilter(find_positive_number,range(-10, 10)))"
   ]
  },
  {
   "cell_type": "markdown",
   "metadata": {},
   "source": [
    "Implement a function longestWord() that takes a list of words and returns the longest one"
   ]
  },
  {
   "cell_type": "code",
   "execution_count": 20,
   "metadata": {},
   "outputs": [
    {
     "name": "stdout",
     "output_type": "stream",
     "text": [
      "Enter the strings:  I am an indian\n",
      "indian\n"
     ]
    }
   ],
   "source": [
    "def LongestWord(sen):\n",
    "    word = sen.split()\n",
    "    word.sort(key= lambda x: len(x))\n",
    "    return word[-1]\n",
    "\n",
    "    \n",
    "sen=input('Enter the strings: ')\n",
    "print(LongestWord(sen)) "
   ]
  },
  {
   "cell_type": "markdown",
   "metadata": {},
   "source": [
    "Implement List comprehensions to produce the following lists.\n",
    "Write List comprehensions to produce the following Lists\n",
    "['A', 'C', 'A', 'D', 'G', 'I', ’L’, ‘ D’]\n",
    "['x', 'xx', 'xxx', 'xxxx', 'y', 'yy', 'yyy', 'yyyy', 'z', 'zz', 'zzz', 'zzzz']\n",
    "['x', 'y', 'z', 'xx', 'yy', 'zz', 'xx', 'yy', 'zz', 'xxxx', 'yyyy', 'zzzz']\n",
    "[[2], [3], [4], [3], [4], [5], [4], [5], [6]]\n",
    "[[2, 3, 4, 5], [3, 4, 5, 6], [4, 5, 6, 7], [5, 6, 7, 8]]\n",
    "[(1, 1), (2, 1), (3, 1), (1, 2), (2, 2), (3, 2), (1, 3), (2, 3), (3, 3)]\n"
   ]
  },
  {
   "cell_type": "code",
   "execution_count": 28,
   "metadata": {},
   "outputs": [
    {
     "name": "stdout",
     "output_type": "stream",
     "text": [
      "['A', 'C', 'A', 'D', 'G', 'I', 'L', 'D']\n"
     ]
    }
   ],
   "source": [
    "x = 'ACADGILD'\n",
    "alpha_list=[i for i in x]\n",
    "print(alpha_list)"
   ]
  },
  {
   "cell_type": "code",
   "execution_count": 29,
   "metadata": {},
   "outputs": [
    {
     "name": "stdout",
     "output_type": "stream",
     "text": [
      "['x', 'xx', 'xxx', 'xxxx', 'y', 'yy', 'yyy', 'yyyy', 'z', 'zz', 'zzz', 'zzzz']\n"
     ]
    }
   ],
   "source": [
    "a='xyz'\n",
    "alpha_list=[i*itr for i in a for itr in range(1,5)]\n",
    "print(alpha_list)"
   ]
  },
  {
   "cell_type": "code",
   "execution_count": 30,
   "metadata": {},
   "outputs": [
    {
     "name": "stdout",
     "output_type": "stream",
     "text": [
      "['x', 'y', 'z', 'xx', 'yy', 'zz', 'xxx', 'yyy', 'zzz', 'xxxx', 'yyyy', 'zzzz']\n"
     ]
    }
   ],
   "source": [
    "a='xyz'\n",
    "alpha_list=[i*itr for itr in range(1,5) for i in a]\n",
    "print(alpha_list)\n"
   ]
  },
  {
   "cell_type": "code",
   "execution_count": 31,
   "metadata": {},
   "outputs": [
    {
     "name": "stdout",
     "output_type": "stream",
     "text": [
      "[[2], [3], [4], [3], [4], [5], [4], [5], [6]]\n"
     ]
    }
   ],
   "source": [
    "a=[2,3,4]\n",
    "num_list=[[i+j] for i in a for j in range(0,3)]\n",
    "print(num_list)"
   ]
  },
  {
   "cell_type": "code",
   "execution_count": 32,
   "metadata": {},
   "outputs": [
    {
     "name": "stdout",
     "output_type": "stream",
     "text": [
      "[[2, 3, 4, 5], [3, 4, 5, 6], [4, 5, 6, 7], [5, 6, 7, 8]]\n"
     ]
    }
   ],
   "source": [
    "a=[2,3,4,5]\n",
    "num_list=[[(i+j) for i in a] for j in range(0,4)]\n",
    "print(num_list)"
   ]
  },
  {
   "cell_type": "code",
   "execution_count": 33,
   "metadata": {},
   "outputs": [
    {
     "name": "stdout",
     "output_type": "stream",
     "text": [
      "[(1, 1), (2, 1), (3, 1), (1, 2), (2, 2), (3, 2), (1, 3), (2, 3), (3, 3)]\n"
     ]
    }
   ],
   "source": [
    "a=[1,2,3]\n",
    "num_list=[(j,i) for i in a for j in a]\n",
    "print(num_list)\n"
   ]
  },
  {
   "cell_type": "markdown",
   "metadata": {},
   "source": [
    "Write a Python Program(with class concepts) to find the area of the triangle using the below\n",
    "formula.\n",
    "area = (s*(s-a)*(s-b)*(s-c)) ** 0.5\n",
    "Function to take the length of the sides of triangle from user should be defined in the parent\n",
    "class and function to calculate the area should be defined in subclass."
   ]
  },
  {
   "cell_type": "code",
   "execution_count": 18,
   "metadata": {},
   "outputs": [
    {
     "name": "stdout",
     "output_type": "stream",
     "text": [
      "Enter the value of a = 4\n",
      "Enter the value of b = 5\n",
      "Enter the value of c = 6\n",
      "The area of the triangle is 9.92\n"
     ]
    }
   ],
   "source": [
    "class triangle:\n",
    "    def __init__(self,a,b,c):\n",
    "        self.a =float(input(\"Enter the value of a = \"))\n",
    "        self.b = float(input(\"Enter the value of b = \"))\n",
    "        self.c =float(input(\"Enter the value of c = \"))\n",
    "class area(triangle):\n",
    "    def __init__(self,a,b,c):\n",
    "        super().__init__(a,b,c)\n",
    "    def findarea(self):\n",
    "        s=(self.a + self.b + self.c)/2\n",
    "        Area=((s*((s-self.a)*(s-self.b)*(s-self.c)))**(1/2))\n",
    "        print('The area of the triangle is %.2f' %Area)\n",
    "t=area(a,b,c)\n",
    "t.findarea()\n",
    "        "
   ]
  },
  {
   "cell_type": "code",
   "execution_count": 21,
   "metadata": {},
   "outputs": [
    {
     "name": "stdout",
     "output_type": "stream",
     "text": [
      "Enter the value of a = 4\n",
      "Enter the value of b = 5\n",
      "Enter the value of c= 6\n",
      "area of traingle is :9.921567416492215\n"
     ]
    }
   ],
   "source": [
    "class triangle:\n",
    "    def __init__(self,a,b,c):\n",
    "        self.a =float(a)\n",
    "        self.b = float(b)\n",
    "        self.c =float(c)\n",
    "    def area(self):\n",
    "        s=(self.a + self.b + self.c)/2\n",
    "        return ((s*((s-self.a)*(s-self.b)*(s-self.c)))**(1/2))\n",
    "\n",
    "a=input(\"Enter the value of a = \")\n",
    "\n",
    "b=input(\"Enter the value of b = \")\n",
    "\n",
    "c=input(\"Enter the value of c= \")\n",
    "\n",
    "x=triangle(a,b,c)\n",
    "\n",
    "#print(\"area :{}\".format(x.area()))\n",
    "print(\"area of traingle is :{}\".format(x.area()))"
   ]
  },
  {
   "cell_type": "markdown",
   "metadata": {},
   "source": [
    "Write a function filter_long_words() that takes a list of words and an integer n and returns the list\n",
    "of words that are longer than n."
   ]
  },
  {
   "cell_type": "code",
   "execution_count": 12,
   "metadata": {},
   "outputs": [
    {
     "name": "stdout",
     "output_type": "stream",
     "text": [
      "Enter an integer: 4\n",
      "Enter the strings: Hi Sudhanshu sir this is Kunal from Kolkata\n",
      "['Sudhanshu', 'Kunal', 'Kolkata']\n"
     ]
    }
   ],
   "source": [
    "\n",
    "def filter_long_words(n,s):\n",
    "    len_word=[]\n",
    "    l=s.split()\n",
    "    for i in l:\n",
    "        if len(i)>n:\n",
    "            len_word.append(i)\n",
    "    return len_word       \n",
    "        \n",
    "n=int(input('Enter an integer: '))\n",
    "s=input('Enter the strings: ')    \n",
    "print(filter_long_words(n,s))\n"
   ]
  },
  {
   "cell_type": "markdown",
   "metadata": {},
   "source": [
    "Write a Python program using function concept that maps list of words into a list of integers\n",
    "representing the lengths of the corresponding words"
   ]
  },
  {
   "cell_type": "code",
   "execution_count": 13,
   "metadata": {},
   "outputs": [
    {
     "name": "stdout",
     "output_type": "stream",
     "text": [
      "Enter the strings: I would like to work for iNeuron Technologies\n",
      "[1, 5, 4, 2, 4, 3, 7, 12]\n"
     ]
    }
   ],
   "source": [
    "def length_of_words(s):\n",
    "    len_word=[]\n",
    "    l=s.split()\n",
    "    for i in l:\n",
    "        len_word.append(len(i))\n",
    "    return len_word\n",
    "s=input('Enter the strings: ') \n",
    "print(length_of_words(s))"
   ]
  },
  {
   "cell_type": "markdown",
   "metadata": {},
   "source": [
    "Write a Python function which takes a character (i.e. a string of length 1) and returns True if it is\n",
    "a vowel, False otherwise."
   ]
  },
  {
   "cell_type": "code",
   "execution_count": 18,
   "metadata": {},
   "outputs": [
    {
     "name": "stdout",
     "output_type": "stream",
     "text": [
      "Enter a character A\n",
      "True\n"
     ]
    }
   ],
   "source": [
    "c=input('Enter a character ')\n",
    "l=c.lower()\n",
    "list=['a','e','i','o','u']\n",
    "print(l in list)"
   ]
  }
 ],
 "metadata": {
  "kernelspec": {
   "display_name": "Python 3",
   "language": "python",
   "name": "python3"
  },
  "language_info": {
   "codemirror_mode": {
    "name": "ipython",
    "version": 3
   },
   "file_extension": ".py",
   "mimetype": "text/x-python",
   "name": "python",
   "nbconvert_exporter": "python",
   "pygments_lexer": "ipython3",
   "version": "3.6.5"
  }
 },
 "nbformat": 4,
 "nbformat_minor": 2
}
